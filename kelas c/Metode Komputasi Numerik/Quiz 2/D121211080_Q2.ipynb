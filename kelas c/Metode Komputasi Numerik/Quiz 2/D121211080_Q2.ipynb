{
 "cells": [
  {
   "cell_type": "code",
   "execution_count": 1,
   "metadata": {},
   "outputs": [
    {
     "name": "stdout",
     "output_type": "stream",
     "text": [
      "Initial value: x0 = 0.0000000\n",
      "Maximum iterations: 100\n",
      "Tolerance: 0.0000100\n",
      "\n",
      "====ITERATION METHOD====\n",
      "x1   = 0.3333333\n",
      "x2   = 0.3703704\n",
      "x3   = 0.3790581\n",
      "x4   = 0.3812283\n",
      "x5   = 0.3817783\n",
      "x6   = 0.3819182\n",
      "x7   = 0.3819538\n",
      "x8   = 0.3819629\n",
      "\n",
      "The solution is:  0.3819629\n",
      "Testing result with f(x) is it really close to zero?\n",
      "f(x) = 0.0000070\n"
     ]
    }
   ],
   "source": [
    "# fungsi asli untuk mengecek hasil proses iterasi\n",
    "# x^2 -3x + 1 = 0\n",
    "def f(x):\n",
    "    return x**2 - 3*x + 1\n",
    "\n",
    "# fungsi g(x) yang diambil adalah x = (x^2 + 1)/3\n",
    "\n",
    "\n",
    "def g(x):\n",
    "    return (x**2+1)/3\n",
    "\n",
    "\n",
    "# memasukkan nilai awal\n",
    "x0 = float(input(\"Enter the initial value of x: \"))\n",
    "\n",
    "# toleransi adalah 0.00001\n",
    "tolerance = 10**(-5)\n",
    "\n",
    "# memasukkan jumlah iterasi maksimum\n",
    "max_iterations = int(input(\"Enter the maximum number of iterations: \"))\n",
    "\n",
    "print(f\"Initial value: x0 = {x0:.7f}\")\n",
    "print(f\"Maximum iterations: {max_iterations}\")\n",
    "print(f\"Tolerance: {tolerance:.7f}\")\n",
    "\n",
    "print(\"\\n====ITERATION METHOD====\")\n",
    "iter = 0\n",
    "# menggunakan try except untuk menangkap eror yang terjadi\n",
    "try:\n",
    "    # selama jumlah iterasi belum mencapai maksimum, lanjutkan proses iterasi\n",
    "    while iter <= max_iterations:\n",
    "        iter += 1\n",
    "        x = round(g(x0),7)     # memasukkan nilai x dengan g(x0) dan membulatkan ke 7D\n",
    "        print(f\"x{iter:<3} = {x:.7f}\")\n",
    "        # jika nilai mutlak dari x - x0 kurang dari toleransi, maka x adalah solusi\n",
    "        # dan proses iterasi berhenti\n",
    "        if abs(x - x0) < tolerance:\n",
    "            print(\"\\nThe solution is: \", x)\n",
    "            break\n",
    "        x0 = x        # mengubah nilai x0 menjadi x baru untuk iterasi selanjutnya\n",
    "\n",
    "    print(\"Testing result with f(x) is it really close to zero?\")\n",
    "    print(f\"f(x) = {f(x):.7f}\")\n",
    "\n",
    "# Overflow error terjadi saat nilai saat ini sangat besar melebihi nilai maksimum di python\n",
    "# Jika terjadi overflow error, maka x adalah divergent\n",
    "except OverflowError:\n",
    "    print(f\"\\nThe program failed after {iter} iterations, x = {x:.7f}\")\n",
    "    print(\"The current x is too large, then it's divergent.\")\n",
    "\n",
    "# Jika terjadi error lain, maka print pesan errornya\n",
    "except Exception as e:\n",
    "    print(\"Error message: \", e)\n"
   ]
  },
  {
   "cell_type": "code",
   "execution_count": null,
   "metadata": {},
   "outputs": [],
   "source": []
  }
 ],
 "metadata": {
  "kernelspec": {
   "display_name": "Python 3",
   "language": "python",
   "name": "python3"
  },
  "language_info": {
   "codemirror_mode": {
    "name": "ipython",
    "version": 3
   },
   "file_extension": ".py",
   "mimetype": "text/x-python",
   "name": "python",
   "nbconvert_exporter": "python",
   "pygments_lexer": "ipython3",
   "version": "3.11.0"
  },
  "orig_nbformat": 4
 },
 "nbformat": 4,
 "nbformat_minor": 2
}
