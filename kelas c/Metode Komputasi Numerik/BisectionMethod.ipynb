{
 "cells": [
  {
   "cell_type": "code",
   "execution_count": 2,
   "metadata": {},
   "outputs": [
    {
     "name": "stdout",
     "output_type": "stream",
     "text": [
      "Lower bound guess: 12.0\n",
      "Upper bound guess: 16.0\n",
      "========================================================\n",
      "| iterasi  |  lower   |  upper   |    m     |    Ea    |\n",
      "========================================================\n",
      "|    1     | 14.00000 | 16.00000 | 14.00000 | 2.00000  |\n",
      "-40.29600000000013 -39.512000000012776 2.0\n",
      "|    2     | 15.00000 | 16.00000 | 15.00000 | 1.00000  |\n",
      "-39.512000000012776 -39.12000000008166 1.0\n",
      "|    3     | 15.50000 | 16.00000 | 15.50000 | 0.50000  |\n",
      "-39.12000000008166 -38.92400000018901 0.5\n",
      "|    4     | 15.75000 | 16.00000 | 15.75000 | 0.25000  |\n",
      "-38.92400000018901 -38.82600000028198 0.25\n",
      "|    5     | 15.87500 | 16.00000 | 15.87500 | 0.12500  |\n",
      "-38.82600000028198 -38.777000000342824 0.125\n",
      "|    6     | 15.93750 | 16.00000 | 15.93750 | 0.06250  |\n",
      "-38.777000000342824 -38.75250000037758 0.0625\n",
      "========================================================\n",
      "Root: 15.93750\n"
     ]
    }
   ],
   "source": [
    "import math\n",
    "\n",
    "# Modify the function below to fit your equation\n",
    "# x as mass\n",
    "def f(x):\n",
    "    return 9.8*x/25*(1-math.exp(-25/x*15))-45\n",
    "\n",
    "errorTolerance = 0.1\n",
    "lowerBound = float(input('Lower Bound: '))\n",
    "upperBound = float(input('Upper Bound: '))\n",
    "\n",
    "Ea = 1\n",
    "iter = 1\n",
    "mPrev = lowerBound\n",
    "\n",
    "print(f'Lower bound guess: {lowerBound}')\n",
    "print(f'Upper bound guess: {upperBound}')\n",
    "print('='*(50+6))\n",
    "print(f\"|{'iterasi':^10}|{'lower':^10}|{'upper':^10}|{'m':^10}|{'Ea':^10}|\")\n",
    "print('='*(50+6))\n",
    "\n",
    "while Ea > errorTolerance :\n",
    "    fl = f(lowerBound)\n",
    "    m = (lowerBound + upperBound) / 2\n",
    "    fm = f(m)\n",
    "    Ea = abs(m - mPrev)\n",
    "    mPrev = m\n",
    "    if (fl * fm) == 0:\n",
    "        break\n",
    "    elif (fl * fm) < 0:\n",
    "        upperBound = m\n",
    "    else:\n",
    "        lowerBound = m\n",
    "    print(f\"|{iter:^10}|{lowerBound:^10.5f}|{upperBound:^10.5f}|{m:^10.5f}|{Ea:^10.5f}|\")\n",
    "    print(fl, fm, Ea)\n",
    "    iter += 1\n",
    "print('='*(50+6))\n",
    "print(f'Root: {m:.5f}')"
   ]
  }
 ],
 "metadata": {
  "kernelspec": {
   "display_name": "Python 3",
   "language": "python",
   "name": "python3"
  },
  "language_info": {
   "codemirror_mode": {
    "name": "ipython",
    "version": 3
   },
   "file_extension": ".py",
   "mimetype": "text/x-python",
   "name": "python",
   "nbconvert_exporter": "python",
   "pygments_lexer": "ipython3",
   "version": "3.11.0"
  },
  "orig_nbformat": 4
 },
 "nbformat": 4,
 "nbformat_minor": 2
}
