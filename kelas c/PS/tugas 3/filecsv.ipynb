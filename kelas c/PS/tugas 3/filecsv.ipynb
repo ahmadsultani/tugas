{
 "cells": [
  {
   "cell_type": "code",
   "execution_count": 130,
   "metadata": {},
   "outputs": [],
   "source": [
    "import pandas as pd \n",
    "myFile = 'dinkes-od_17150_jumlah_puskesmas_berdasarkan_kategori_puskesmas.csv'\n",
    "myDf = pd.read_csv(myFile)"
   ]
  },
  {
   "cell_type": "markdown",
   "metadata": {},
   "source": [
    "##### 1. Printout kategori puskesmas yang ada (distinct)"
   ]
  },
  {
   "cell_type": "code",
   "execution_count": 131,
   "metadata": {},
   "outputs": [
    {
     "name": "stdout",
     "output_type": "stream",
     "text": [
      "PUSKESMAS NON RAWAT INAP\n",
      "PUSKESMAS RAWAT INAP\n"
     ]
    }
   ],
   "source": [
    "for x in myDf['kategori_puskesmas'].unique():\n",
    "  print(x)"
   ]
  },
  {
   "cell_type": "code",
   "execution_count": 132,
   "metadata": {},
   "outputs": [
    {
     "data": {
      "text/html": [
       "<div>\n",
       "<style scoped>\n",
       "    .dataframe tbody tr th:only-of-type {\n",
       "        vertical-align: middle;\n",
       "    }\n",
       "\n",
       "    .dataframe tbody tr th {\n",
       "        vertical-align: top;\n",
       "    }\n",
       "\n",
       "    .dataframe thead th {\n",
       "        text-align: right;\n",
       "    }\n",
       "</style>\n",
       "<table border=\"1\" class=\"dataframe\">\n",
       "  <thead>\n",
       "    <tr style=\"text-align: right;\">\n",
       "      <th></th>\n",
       "      <th>id</th>\n",
       "      <th>kode_provinsi</th>\n",
       "      <th>nama_provinsi</th>\n",
       "      <th>kode_kabupaten_kota</th>\n",
       "      <th>nama_kabupaten_kota</th>\n",
       "      <th>kategori_puskesmas</th>\n",
       "      <th>jumlah_puskesmas</th>\n",
       "      <th>satuan</th>\n",
       "      <th>tahun</th>\n",
       "    </tr>\n",
       "  </thead>\n",
       "  <tbody>\n",
       "    <tr>\n",
       "      <th>112</th>\n",
       "      <td>113.0</td>\n",
       "      <td>32.0</td>\n",
       "      <td>JAWA BARAT</td>\n",
       "      <td>3203.0</td>\n",
       "      <td>KABUPATEN CIANJUR</td>\n",
       "      <td>PUSKESMAS RAWAT INAP</td>\n",
       "      <td>8.0</td>\n",
       "      <td>UNIT</td>\n",
       "      <td>2021.0</td>\n",
       "    </tr>\n",
       "    <tr>\n",
       "      <th>113</th>\n",
       "      <td>114.0</td>\n",
       "      <td>32.0</td>\n",
       "      <td>JAWA BARAT</td>\n",
       "      <td>3203.0</td>\n",
       "      <td>KABUPATEN CIANJUR</td>\n",
       "      <td>PUSKESMAS NON RAWAT INAP</td>\n",
       "      <td>39.0</td>\n",
       "      <td>UNIT</td>\n",
       "      <td>2021.0</td>\n",
       "    </tr>\n",
       "  </tbody>\n",
       "</table>\n",
       "</div>"
      ],
      "text/plain": [
       "        id  kode_provinsi nama_provinsi  kode_kabupaten_kota  \\\n",
       "112  113.0           32.0    JAWA BARAT               3203.0   \n",
       "113  114.0           32.0    JAWA BARAT               3203.0   \n",
       "\n",
       "    nama_kabupaten_kota        kategori_puskesmas  jumlah_puskesmas satuan  \\\n",
       "112   KABUPATEN CIANJUR      PUSKESMAS RAWAT INAP               8.0   UNIT   \n",
       "113   KABUPATEN CIANJUR  PUSKESMAS NON RAWAT INAP              39.0   UNIT   \n",
       "\n",
       "      tahun  \n",
       "112  2021.0  \n",
       "113  2021.0  "
      ]
     },
     "execution_count": 132,
     "metadata": {},
     "output_type": "execute_result"
    }
   ],
   "source": [
    "dataCianjur = myDf.where(\n",
    "  (myDf['nama_kabupaten_kota'] == 'KABUPATEN CIANJUR') & \n",
    "  (myDf['tahun'] == 2021)\n",
    ").dropna()\n",
    "dataCianjur"
   ]
  },
  {
   "cell_type": "markdown",
   "metadata": {},
   "source": [
    "##### 2. Berapa jumlah puskesmas di Kab. Cianjur"
   ]
  },
  {
   "cell_type": "code",
   "execution_count": null,
   "metadata": {},
   "outputs": [],
   "source": []
  },
  {
   "cell_type": "code",
   "execution_count": 133,
   "metadata": {},
   "outputs": [
    {
     "name": "stdout",
     "output_type": "stream",
     "text": [
      "Jumlah Puskesmas Cianjur Tahun 2021: 47\n",
      "Jumlah Puskesmas Rawat Inap Cianjur Tahun 2021: 8\n",
      "Jumlah Puskesmas Non Rawat Inap Cianjur Tahun 2021: 39\n"
     ]
    }
   ],
   "source": [
    "jumPCianjur = dataCianjur['jumlah_puskesmas'].sum()\n",
    "jumPRICianjur = dataCianjur.where(dataCianjur['kategori_puskesmas'] == 'PUSKESMAS RAWAT INAP').dropna()['jumlah_puskesmas'].sum()\n",
    "jumPNRICianjur = jumPCianjur - jumPRICianjur\n",
    "print(f'Jumlah Puskesmas Cianjur Tahun 2021: {jumPCianjur:g}')\n",
    "print(f'Jumlah Puskesmas Rawat Inap Cianjur Tahun 2021: {jumPRICianjur:g}') \n",
    "print(f'Jumlah Puskesmas Non Rawat Inap Cianjur Tahun 2021: {jumPNRICianjur:g}')"
   ]
  },
  {
   "cell_type": "code",
   "execution_count": 134,
   "metadata": {},
   "outputs": [
    {
     "data": {
      "text/html": [
       "<div>\n",
       "<style scoped>\n",
       "    .dataframe tbody tr th:only-of-type {\n",
       "        vertical-align: middle;\n",
       "    }\n",
       "\n",
       "    .dataframe tbody tr th {\n",
       "        vertical-align: top;\n",
       "    }\n",
       "\n",
       "    .dataframe thead th {\n",
       "        text-align: right;\n",
       "    }\n",
       "</style>\n",
       "<table border=\"1\" class=\"dataframe\">\n",
       "  <thead>\n",
       "    <tr style=\"text-align: right;\">\n",
       "      <th></th>\n",
       "      <th>id</th>\n",
       "      <th>kode_provinsi</th>\n",
       "      <th>nama_provinsi</th>\n",
       "      <th>kode_kabupaten_kota</th>\n",
       "      <th>nama_kabupaten_kota</th>\n",
       "      <th>kategori_puskesmas</th>\n",
       "      <th>jumlah_puskesmas</th>\n",
       "      <th>satuan</th>\n",
       "      <th>tahun</th>\n",
       "    </tr>\n",
       "  </thead>\n",
       "  <tbody>\n",
       "    <tr>\n",
       "      <th>1</th>\n",
       "      <td>2.0</td>\n",
       "      <td>32.0</td>\n",
       "      <td>JAWA BARAT</td>\n",
       "      <td>3201.0</td>\n",
       "      <td>KABUPATEN BOGOR</td>\n",
       "      <td>PUSKESMAS RAWAT INAP</td>\n",
       "      <td>27.0</td>\n",
       "      <td>UNIT</td>\n",
       "      <td>2019.0</td>\n",
       "    </tr>\n",
       "    <tr>\n",
       "      <th>55</th>\n",
       "      <td>56.0</td>\n",
       "      <td>32.0</td>\n",
       "      <td>JAWA BARAT</td>\n",
       "      <td>3201.0</td>\n",
       "      <td>KABUPATEN BOGOR</td>\n",
       "      <td>PUSKESMAS RAWAT INAP</td>\n",
       "      <td>30.0</td>\n",
       "      <td>UNIT</td>\n",
       "      <td>2020.0</td>\n",
       "    </tr>\n",
       "    <tr>\n",
       "      <th>108</th>\n",
       "      <td>109.0</td>\n",
       "      <td>32.0</td>\n",
       "      <td>JAWA BARAT</td>\n",
       "      <td>3201.0</td>\n",
       "      <td>KABUPATEN BOGOR</td>\n",
       "      <td>PUSKESMAS RAWAT INAP</td>\n",
       "      <td>30.0</td>\n",
       "      <td>UNIT</td>\n",
       "      <td>2021.0</td>\n",
       "    </tr>\n",
       "  </tbody>\n",
       "</table>\n",
       "</div>"
      ],
      "text/plain": [
       "        id  kode_provinsi nama_provinsi  kode_kabupaten_kota  \\\n",
       "1      2.0           32.0    JAWA BARAT               3201.0   \n",
       "55    56.0           32.0    JAWA BARAT               3201.0   \n",
       "108  109.0           32.0    JAWA BARAT               3201.0   \n",
       "\n",
       "    nama_kabupaten_kota    kategori_puskesmas  jumlah_puskesmas satuan   tahun  \n",
       "1       KABUPATEN BOGOR  PUSKESMAS RAWAT INAP              27.0   UNIT  2019.0  \n",
       "55      KABUPATEN BOGOR  PUSKESMAS RAWAT INAP              30.0   UNIT  2020.0  \n",
       "108     KABUPATEN BOGOR  PUSKESMAS RAWAT INAP              30.0   UNIT  2021.0  "
      ]
     },
     "execution_count": 134,
     "metadata": {},
     "output_type": "execute_result"
    }
   ],
   "source": [
    "dataBogor = myDf.where(\n",
    "  (myDf['nama_kabupaten_kota'] == 'KABUPATEN BOGOR') &\n",
    "  (myDf['kategori_puskesmas'] == 'PUSKESMAS RAWAT INAP')\n",
    ").dropna()\n",
    "dataBogor"
   ]
  },
  {
   "cell_type": "markdown",
   "metadata": {},
   "source": [
    "##### 3. Adakah pertambahan puskesmas rawat inap di Kab. Bogor dari tahun 2019-2021"
   ]
  },
  {
   "cell_type": "code",
   "execution_count": 135,
   "metadata": {},
   "outputs": [
    {
     "name": "stdout",
     "output_type": "stream",
     "text": [
      "Jumlah Puskesmas Rawat Inap Bogor Tahun 2019 27\n",
      "Jumlah Puskesmas Rawat Inap Bogor Tahun 2020: 30\n",
      "Jumlah Puskesmas Rawat Inap Bogor Tahun 2021: 30\n",
      "Pertambahan Puskesmas Rawat Inap dari 2019-2021: 3\n"
     ]
    }
   ],
   "source": [
    "jumPRIBogor2019 = dataBogor.where(dataBogor['tahun'] == 2019)['jumlah_puskesmas'].sum()\n",
    "jumPRIBogor2020 = dataBogor.where(dataBogor['tahun'] == 2020)['jumlah_puskesmas'].sum()\n",
    "jumPRIBogor2021 = dataBogor.where(dataBogor['tahun'] == 2021)['jumlah_puskesmas'].sum()\n",
    "print(f'Jumlah Puskesmas Rawat Inap Bogor Tahun 2019 {jumPRIBogor2019:g}')\n",
    "print(f'Jumlah Puskesmas Rawat Inap Bogor Tahun 2020: {jumPRIBogor2020:g}')\n",
    "print(f'Jumlah Puskesmas Rawat Inap Bogor Tahun 2021: {jumPRIBogor2021:g}')\n",
    "\n",
    "pertambahanPRI = jumPRIBogor2021 - jumPRIBogor2019\n",
    "print(f'Pertambahan Puskesmas Rawat Inap dari 2019-2021: {pertambahanPRI:g}')"
   ]
  }
 ],
 "metadata": {
  "kernelspec": {
   "display_name": "Python 3.11.0 64-bit",
   "language": "python",
   "name": "python3"
  },
  "language_info": {
   "codemirror_mode": {
    "name": "ipython",
    "version": 3
   },
   "file_extension": ".py",
   "mimetype": "text/x-python",
   "name": "python",
   "nbconvert_exporter": "python",
   "pygments_lexer": "ipython3",
   "version": "3.11.0 (main, Oct 24 2022, 18:26:48) [MSC v.1933 64 bit (AMD64)]"
  },
  "orig_nbformat": 4,
  "vscode": {
   "interpreter": {
    "hash": "c261aea317cc0286b3b3261fbba9abdec21eaa57589985bb7a274bf54d6cc0a7"
   }
  }
 },
 "nbformat": 4,
 "nbformat_minor": 2
}
