{
 "cells": [
  {
   "cell_type": "code",
   "execution_count": 1,
   "metadata": {},
   "outputs": [
    {
     "name": "stdout",
     "output_type": "stream",
     "text": [
      "Stack currently contains: \n",
      "1\n",
      "2\n",
      "3\n",
      "Stack is full!\n",
      "Stack currently contains: \n",
      "1\n",
      "2\n",
      "3\n",
      "Stack currently contains: \n",
      "1\n",
      "2\n",
      "Stack is empty.\n",
      "Stack currently contains: \n"
     ]
    },
    {
     "data": {
      "text/plain": [
       "''"
      ]
     },
     "execution_count": 1,
     "metadata": {},
     "output_type": "execute_result"
    }
   ],
   "source": [
    "MyStack = []\n",
    "StackSize = 3\n",
    "\n",
    "def DisplayStack():\n",
    "  print( \"Stack currently contains: \" )\n",
    "  for Item in MyStack :\n",
    "    print(Item)\n",
    "\n",
    "def Push(Value):\n",
    "  if len(MyStack) < StackSize:\n",
    "    MyStack.append(Value)\n",
    "  else :\n",
    "    print(\"Stack is full!\")\n",
    "\n",
    "def Pop():\n",
    "  if len(MyStack) > 0:\n",
    "    MyStack.pop()\n",
    "  else :\n",
    "    print(\"Stack is empty.\")\n",
    "\n",
    "Push(1)\n",
    "Push(2)\n",
    "Push(3)\n",
    "DisplayStack()\n",
    "input(\"Press any key when ready...\")\n",
    "Push(4)\n",
    "DisplayStack()\n",
    "input(\"Press any key when ready...\")\n",
    "Pop()\n",
    "DisplayStack()\n",
    "input(\"Press any key when ready...\")\n",
    "Pop()\n",
    "Pop()\n",
    "Pop()\n",
    "DisplayStack()\n",
    "input(\"Press any key when ready...\")"
   ]
  }
 ],
 "metadata": {
  "kernelspec": {
   "display_name": "Python 3.11.0 64-bit",
   "language": "python",
   "name": "python3"
  },
  "language_info": {
   "codemirror_mode": {
    "name": "ipython",
    "version": 3
   },
   "file_extension": ".py",
   "mimetype": "text/x-python",
   "name": "python",
   "nbconvert_exporter": "python",
   "pygments_lexer": "ipython3",
   "version": "3.11.0"
  },
  "orig_nbformat": 4,
  "vscode": {
   "interpreter": {
    "hash": "c261aea317cc0286b3b3261fbba9abdec21eaa57589985bb7a274bf54d6cc0a7"
   }
  }
 },
 "nbformat": 4,
 "nbformat_minor": 2
}
