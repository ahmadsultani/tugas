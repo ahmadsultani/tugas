{
 "cells": [
  {
   "cell_type": "code",
   "execution_count": 1,
   "metadata": {},
   "outputs": [
    {
     "name": "stdout",
     "output_type": "stream",
     "text": [
      "Starting state:\n",
      "abcdef\n",
      "\n",
      "Appending and extending right\n",
      "abcdefhijcontains 9 items.\n",
      "\n",
      "Popping right\n",
      "Popping j\n",
      "abcdefhiAppending and extending left\n",
      "cbaabcdefhcontains 10 items.\n",
      "\n",
      "Popping left\n",
      "Popping c\n",
      "baabcdefh\n",
      "Removing\n",
      "babcdefh"
     ]
    }
   ],
   "source": [
    "import collections\n",
    "MyDeque = collections.deque(\"abcdef\", 10)\n",
    "print(\"Starting state:\")\n",
    "for Item in MyDeque:\n",
    "  print(Item, end=\"\")\n",
    "\n",
    "print(\"\\r\\n\\r\\nAppending and extending right\")\n",
    "MyDeque.append(\"h\")\n",
    "MyDeque.extend(\"ij\")\n",
    "for Item in MyDeque:\n",
    "  print(Item, end=\"\")\n",
    "print(\"contains {0} items.\".format(len(MyDeque)))\n",
    "\n",
    "print(\"\\r\\nPopping right\")\n",
    "print(\"Popping {0}\".format(MyDeque.pop()))\n",
    "for Item in MyDeque:\n",
    "  print(Item, end=\"\")\n",
    "\n",
    "print(\"Appending and extending left\")\n",
    "MyDeque.appendleft(\"a\")\n",
    "MyDeque.extendleft(\"bc\")\n",
    "for Item in MyDeque:\n",
    "  print(Item, end=\"\")\n",
    "print(\"contains {0} items.\".format(len(MyDeque)))\n",
    "\n",
    "print(\"\\r\\nPopping left\")\n",
    "print(\"Popping {0}\".format(MyDeque.popleft()))\n",
    "for Item in MyDeque:\n",
    "  print(Item, end=\"\")\n",
    "\n",
    "print(\"\\nRemoving\")\n",
    "MyDeque.remove(\"a\")\n",
    "for Item in MyDeque:\n",
    "  print(Item, end=\"\")"
   ]
  }
 ],
 "metadata": {
  "kernelspec": {
   "display_name": "Python 3.11.0 64-bit",
   "language": "python",
   "name": "python3"
  },
  "language_info": {
   "codemirror_mode": {
    "name": "ipython",
    "version": 3
   },
   "file_extension": ".py",
   "mimetype": "text/x-python",
   "name": "python",
   "nbconvert_exporter": "python",
   "pygments_lexer": "ipython3",
   "version": "3.11.0 (main, Oct 24 2022, 18:26:48) [MSC v.1933 64 bit (AMD64)]"
  },
  "orig_nbformat": 4,
  "vscode": {
   "interpreter": {
    "hash": "c261aea317cc0286b3b3261fbba9abdec21eaa57589985bb7a274bf54d6cc0a7"
   }
  }
 },
 "nbformat": 4,
 "nbformat_minor": 2
}
