{
 "cells": [
  {
   "cell_type": "code",
   "execution_count": 1,
   "metadata": {},
   "outputs": [
    {
     "name": "stdout",
     "output_type": "stream",
     "text": [
      "5\n",
      "Elemen pertama dari list adalah Surabaya\n",
      "Elemen tengah dari list adalah Jakarta\n",
      "Elemen terakhir dari list adalah Bali\n"
     ]
    }
   ],
   "source": [
    "MyList = [\"Surabaya\", \"Bandung\", \"Jakarta\", \"Makassar\", \"Bali\"]\n",
    "print(\"Panjang list:\",len(MyList))\n",
    "print(\"Elemen pertama dari list adalah\", MyList[0])\n",
    "print(\"Elemen tengah dari list adalah\", MyList[len(MyList)//2])\n",
    "print(\"Elemen terakhir dari list adalah\", MyList[len(MyList)-1])"
   ]
  },
  {
   "cell_type": "code",
   "execution_count": 9,
   "metadata": {},
   "outputs": [
    {
     "name": "stdout",
     "output_type": "stream",
     "text": [
      "Panjang list saat ini: 10\n",
      "\n",
      "List saat ini:\n",
      "19 22 19 24 20 25 26 24 25 24 \n",
      "\n",
      "List setelah diurutkan:\n",
      "19 19 20 22 24 24 24 25 25 26 \n",
      "\n",
      "Elemen minimum dari list adalah 19\n",
      "Elemen maksimum dari list adalah 26\n",
      "\n",
      "List setelah ditambah elemen minimum dan maksimum:\n",
      "19 19 19 20 22 24 24 24 25 25 26 26 \n",
      "\n",
      "Median dari list adalah 24\n",
      "Mean dari list adalah 22.75\n",
      "Range umur adalah 7 (max-min)\n",
      "Nilai minimum dikurangi mean lebih besar dari nilai maksimum dikurangi mean\n"
     ]
    }
   ],
   "source": [
    "StudentAges = [19, 22, 19, 24, 20, 25, 26, 24, 25, 24]\n",
    "print(\"Panjang list saat ini:\",len(StudentAges))\n",
    "\n",
    "def printList(list):\n",
    "  for i in range(len(list)):\n",
    "    print(list[i], end=\" \")\n",
    "  print()\n",
    "\n",
    "print(\"\\nList saat ini:\")\n",
    "printList(StudentAges)\n",
    "\n",
    "# mengurutkan list\n",
    "StudentAges.sort()\n",
    "print(\"\\nList setelah diurutkan:\")\n",
    "printList(StudentAges)\n",
    "\n",
    "# mencari nilai terendah dan tertinggi\n",
    "maxAge = max(StudentAges)\n",
    "minAge = min(StudentAges)\n",
    "print(\"\\nElemen minimum dari list adalah\", minAge)\n",
    "print(\"Elemen maksimum dari list adalah\", maxAge)\n",
    "\n",
    "# menambahkan nilai terendah dan tertinggi lagi\n",
    "StudentAges.insert(0, minAge)\n",
    "StudentAges.append(maxAge)\n",
    "print(\"\\nList setelah ditambah elemen minimum dan maksimum:\")\n",
    "printList(StudentAges)\n",
    "\n",
    "# mencari median\n",
    "if len(StudentAges) % 2 == 0:\n",
    "  median = (StudentAges[len(StudentAges)//2] + StudentAges[len(StudentAges)//2-1]) / 2\n",
    "else:\n",
    "  median = StudentAges[len(StudentAges)//2]\n",
    "print(f\"\\nMedian dari list adalah {median:g}\")\n",
    "\n",
    "# mencari mean / rata-rata\n",
    "mean = sum(StudentAges) / len(StudentAges)\n",
    "print(f\"Mean dari list adalah {mean:g}\")\n",
    "print(f\"Range umur adalah {maxAge-minAge} (max-min)\")\n",
    "\n",
    "# membandingkan nilai max-mean dan min-mean dengan fungsi abs()\n",
    "if abs(maxAge-mean) > abs(minAge-mean):\n",
    "  print(\"Nilai maksimum dikurangi mean lebih besar dari nilai minimum dikurangi mean\")\n",
    "else:\n",
    "  print(\"Nilai minimum dikurangi mean lebih besar dari nilai maksimum dikurangi mean\")\n",
    "\n"
   ]
  }
 ],
 "metadata": {
  "kernelspec": {
   "display_name": "Python 3.11.0 64-bit",
   "language": "python",
   "name": "python3"
  },
  "language_info": {
   "codemirror_mode": {
    "name": "ipython",
    "version": 3
   },
   "file_extension": ".py",
   "mimetype": "text/x-python",
   "name": "python",
   "nbconvert_exporter": "python",
   "pygments_lexer": "ipython3",
   "version": "3.11.0"
  },
  "orig_nbformat": 4,
  "vscode": {
   "interpreter": {
    "hash": "c261aea317cc0286b3b3261fbba9abdec21eaa57589985bb7a274bf54d6cc0a7"
   }
  }
 },
 "nbformat": 4,
 "nbformat_minor": 2
}
