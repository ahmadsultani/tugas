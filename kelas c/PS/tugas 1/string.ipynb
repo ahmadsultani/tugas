{
 "cells": [
  {
   "cell_type": "code",
   "execution_count": 2,
   "metadata": {},
   "outputs": [
    {
     "name": "stdout",
     "output_type": "stream",
     "text": [
      "hasil konkatenasi: Coding For All\n",
      "hasil split: ['Coding', 'For', 'All']\n"
     ]
    }
   ],
   "source": [
    "string1 = \"Coding\"\n",
    "string2 = \"For\"\n",
    "string3 = \"All\"\n",
    "hasilKonkatenasi = string1 + \" \" + string2 + \" \" + string3\n",
    "print(f\"hasil konkatenasi: {hasilKonkatenasi}\")\n",
    "hasilSplit = hasilKonkatenasi.split(\" \")\n",
    "print(f\"hasil split: {hasilSplit}\")"
   ]
  },
  {
   "cell_type": "code",
   "execution_count": 4,
   "metadata": {},
   "outputs": [
    {
     "name": "stdout",
     "output_type": "stream",
     "text": [
      "kemunculan pertama because ada pada index 31\n",
      "kemunculan terakhir because ada pada index 47\n",
      "slice because because because: because because because \n"
     ]
    }
   ],
   "source": [
    "kalimat = \"You cannot end a sentence with because because because is a conjunction\"\n",
    "firstBecause = kalimat.find(\"because\")\n",
    "print(f\"kemunculan pertama because ada pada index {firstBecause}\")\n",
    "\n",
    "lastBecause = kalimat.rindex(\"because\")\n",
    "print(f\"kemunculan terakhir because ada pada index {lastBecause}\")\n",
    "\n",
    "sliceBecause = kalimat[firstBecause:lastBecause+len(\"because\")+1]\n",
    "print(f\"slice because because because: {sliceBecause}\")"
   ]
  }
 ],
 "metadata": {
  "kernelspec": {
   "display_name": "Python 3.11.0 64-bit",
   "language": "python",
   "name": "python3"
  },
  "language_info": {
   "codemirror_mode": {
    "name": "ipython",
    "version": 3
   },
   "file_extension": ".py",
   "mimetype": "text/x-python",
   "name": "python",
   "nbconvert_exporter": "python",
   "pygments_lexer": "ipython3",
   "version": "3.11.0"
  },
  "orig_nbformat": 4,
  "vscode": {
   "interpreter": {
    "hash": "c261aea317cc0286b3b3261fbba9abdec21eaa57589985bb7a274bf54d6cc0a7"
   }
  }
 },
 "nbformat": 4,
 "nbformat_minor": 2
}
