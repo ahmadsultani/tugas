{
 "cells": [
  {
   "cell_type": "code",
   "execution_count": 2,
   "metadata": {},
   "outputs": [
    {
     "name": "stdout",
     "output_type": "stream",
     "text": [
      "True\n",
      "False\n",
      "True\n",
      "1\n",
      "False\n",
      "False\n",
      "2\n",
      "3\n"
     ]
    }
   ],
   "source": [
    "import queue\n",
    "MyQueue = queue.Queue(3)\n",
    "print(MyQueue.empty())\n",
    "input(\"Press any key when ready...\")\n",
    "MyQueue.put(1)\n",
    "MyQueue.put(2)\n",
    "print(MyQueue.full())\n",
    "input(\"Press any key when ready...\")\n",
    "MyQueue.put(3)\n",
    "print(MyQueue.full())\n",
    "input(\"Press any key when ready...\")\n",
    "print(MyQueue.get())\n",
    "print(MyQueue.empty())\n",
    "print(MyQueue.full())\n",
    "input(\"Press any key when ready...\")\n",
    "print(MyQueue.get())\n",
    "print(MyQueue.get())\n"
   ]
  }
 ],
 "metadata": {
  "kernelspec": {
   "display_name": "Python 3.11.0 64-bit",
   "language": "python",
   "name": "python3"
  },
  "language_info": {
   "codemirror_mode": {
    "name": "ipython",
    "version": 3
   },
   "file_extension": ".py",
   "mimetype": "text/x-python",
   "name": "python",
   "nbconvert_exporter": "python",
   "pygments_lexer": "ipython3",
   "version": "3.11.0 (main, Oct 24 2022, 18:26:48) [MSC v.1933 64 bit (AMD64)]"
  },
  "orig_nbformat": 4,
  "vscode": {
   "interpreter": {
    "hash": "c261aea317cc0286b3b3261fbba9abdec21eaa57589985bb7a274bf54d6cc0a7"
   }
  }
 },
 "nbformat": 4,
 "nbformat_minor": 2
}
