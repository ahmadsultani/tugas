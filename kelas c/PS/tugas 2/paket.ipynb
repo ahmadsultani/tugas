{
 "cells": [
  {
   "cell_type": "code",
   "execution_count": 1,
   "metadata": {},
   "outputs": [
    {
     "name": "stdout",
     "output_type": "stream",
     "text": [
      "[[6, 2, 9, 4, 3, 2, 6, 1, 8, 4, 1], [7, 7, 2, 1, 6, 6, 4, 3, 2, 2, 4], [2, 6, 9, 7, 7, 5, 7, 4, 8, 8, 4], [5, 5, 4, 9, 1, 6, 4, 9, 7, 7, 1], [7, 5, 9, 5, 7, 3, 7, 8, 9, 9, 7], [8, 3, 3, 9, 2, 9, 8, 8, 9, 8, 6], [3, 2, 2, 9, 2, 5, 9, 7, 8, 8, 3], [5, 7, 8, 7, 6, 7, 2, 9, 9, 3, 3], [9, 1, 1, 8, 6, 4, 9, 4, 7, 1, 5], [6, 5, 6, 9, 4, 4, 6, 5, 3, 9, 9], [4, 5, 8, 2, 6, 4, 1, 2, 9, 7, 1]]\n",
      "Tipe: <class 'list'>\n",
      "[[7 3 7 1 8 2 8 1 3 5 1]\n",
      " [7 2 5 3 1 2 2 3 4 1 7]\n",
      " [2 6 1 7 1 6 3 2 7 2 2]\n",
      " [1 2 1 1 4 7 5 7 5 7 4]\n",
      " [8 8 8 3 5 4 3 7 6 4 2]\n",
      " [6 4 3 2 7 5 6 8 2 7 2]\n",
      " [6 7 4 3 7 8 2 5 6 8 4]\n",
      " [7 8 4 5 3 1 6 7 4 6 2]\n",
      " [6 4 4 1 6 2 3 3 6 1 1]\n",
      " [4 2 2 1 1 5 2 5 2 3 2]\n",
      " [4 7 4 8 3 1 6 8 7 5 8]]\n",
      "Tipe: <class 'numpy.ndarray'>\n",
      "[[6 5 9 8 5 6 2 3 3 2 5]\n",
      " [3 8 2 1 9 6 3 5 3 6 1]\n",
      " [4 7 5 1 1 4 3 1 7 9 1]\n",
      " [2 7 8 9 5 8 7 4 9 9 6]\n",
      " [8 2 2 8 8 8 5 2 2 5 6]\n",
      " [1 1 5 3 5 6 8 2 5 6 5]\n",
      " [3 5 7 9 8 1 8 5 1 5 5]\n",
      " [2 6 5 2 4 5 6 8 7 8 7]\n",
      " [3 4 1 9 1 7 1 8 2 2 2]\n",
      " [3 7 1 9 2 4 8 4 2 3 4]\n",
      " [2 7 7 9 1 5 1 4 3 8 8]]\n",
      "Tipe: <class 'numpy.ndarray'>\n"
     ]
    },
    {
     "name": "stderr",
     "output_type": "stream",
     "text": [
      "C:\\Users\\Dell\\AppData\\Local\\Temp\\ipykernel_3620\\2082179155.py:17: DeprecationWarning: scipy.array is deprecated and will be removed in SciPy 2.0.0, use numpy.array instead\n",
      "  C = sc.array([[random.randint(1,9) for i in range(11)] for j in range(11)])\n"
     ]
    }
   ],
   "source": [
    "import numpy as np\n",
    "import scipy as sc\n",
    "import random\n",
    "#Definisikan array 11 x 11\n",
    "\n",
    "#default array\n",
    "A = [[random.randint(1,9) for i in range(11)] for j in range(11)]\n",
    "print(A)\n",
    "print(\"Tipe:\", type(A))\n",
    "\n",
    "#numpy\n",
    "B = np.random.randint(1, 9, (11,11))\n",
    "print(B)\n",
    "print(\"Tipe:\", type(B))\n",
    "\n",
    "#scipy array\n",
    "C = sc.array([[random.randint(1,9) for i in range(11)] for j in range(11)])\n",
    "print(C)\n",
    "print(\"Tipe:\", type(C))"
   ]
  }
 ],
 "metadata": {
  "kernelspec": {
   "display_name": "Python 3.11.0 64-bit",
   "language": "python",
   "name": "python3"
  },
  "language_info": {
   "codemirror_mode": {
    "name": "ipython",
    "version": 3
   },
   "file_extension": ".py",
   "mimetype": "text/x-python",
   "name": "python",
   "nbconvert_exporter": "python",
   "pygments_lexer": "ipython3",
   "version": "3.11.0"
  },
  "orig_nbformat": 4,
  "vscode": {
   "interpreter": {
    "hash": "c261aea317cc0286b3b3261fbba9abdec21eaa57589985bb7a274bf54d6cc0a7"
   }
  }
 },
 "nbformat": 4,
 "nbformat_minor": 2
}
