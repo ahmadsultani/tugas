{
 "cells": [
  {
   "cell_type": "code",
   "execution_count": 47,
   "metadata": {},
   "outputs": [],
   "source": [
    "from datetime import datetime"
   ]
  },
  {
   "cell_type": "markdown",
   "metadata": {},
   "source": [
    "##### 1. print tanggal, bulan, tahun, jam, menit, dan time timestamp sekarang"
   ]
  },
  {
   "cell_type": "code",
   "execution_count": 48,
   "metadata": {},
   "outputs": [
    {
     "name": "stdout",
     "output_type": "stream",
     "text": [
      "1. 2022-11-28 22:49:45.971399\n"
     ]
    }
   ],
   "source": [
    "now = datetime.now()\n",
    "print(\"1.\", now)"
   ]
  },
  {
   "cell_type": "markdown",
   "metadata": {},
   "source": [
    "##### 2. format ulang current date di atas menjadi %m/%d/%Y, %H:%M:%S"
   ]
  },
  {
   "cell_type": "code",
   "execution_count": 49,
   "metadata": {},
   "outputs": [
    {
     "name": "stdout",
     "output_type": "stream",
     "text": [
      "2. 11/28/2022, 22:49:45\n"
     ]
    }
   ],
   "source": [
    "print(now.strftime(\"2. %m/%d/%Y, %H:%M:%S\"))"
   ]
  },
  {
   "cell_type": "markdown",
   "metadata": {},
   "source": [
    "##### 3. Hari ini adalah 25 November 2022. Ubah tanggal tersebut dari string ke time"
   ]
  },
  {
   "cell_type": "code",
   "execution_count": 50,
   "metadata": {},
   "outputs": [
    {
     "name": "stdout",
     "output_type": "stream",
     "text": [
      "3. 2022-11-25 00:00:00\n"
     ]
    }
   ],
   "source": [
    "today = \"25 November 2022\"\n",
    "today_strptime = datetime.strptime(today, \"%d %B %Y\")\n",
    "print(\"3.\", today_strptime)"
   ]
  },
  {
   "cell_type": "markdown",
   "metadata": {},
   "source": [
    "##### 4. Hitung perbedaan waktu antara sekarang dan tahun baru"
   ]
  },
  {
   "cell_type": "code",
   "execution_count": 51,
   "metadata": {},
   "outputs": [
    {
     "name": "stdout",
     "output_type": "stream",
     "text": [
      "4. -332 days, 1:10:14.028601\n"
     ]
    }
   ],
   "source": [
    "new_year = datetime(2022, 1, 1)\n",
    "print(\"4.\", new_year - now)"
   ]
  },
  {
   "cell_type": "markdown",
   "metadata": {},
   "source": [
    "##### 5. Hitung perbedaan waktu antara 17 Agustus 1945 dan sekarang"
   ]
  },
  {
   "cell_type": "code",
   "execution_count": 52,
   "metadata": {},
   "outputs": [
    {
     "name": "stdout",
     "output_type": "stream",
     "text": [
      "5. 28227 days, 22:49:45.971399\n"
     ]
    }
   ],
   "source": [
    "nationalIdDay = \"17 August 1945\"\n",
    "nationalIdDay_dt = datetime.strptime(nationalIdDay, \"%d %B %Y\")\n",
    "print(\"5.\", now - nationalIdDay_dt)"
   ]
  }
 ],
 "metadata": {
  "kernelspec": {
   "display_name": "Python 3.11.0 64-bit",
   "language": "python",
   "name": "python3"
  },
  "language_info": {
   "codemirror_mode": {
    "name": "ipython",
    "version": 3
   },
   "file_extension": ".py",
   "mimetype": "text/x-python",
   "name": "python",
   "nbconvert_exporter": "python",
   "pygments_lexer": "ipython3",
   "version": "3.11.0"
  },
  "orig_nbformat": 4,
  "vscode": {
   "interpreter": {
    "hash": "c261aea317cc0286b3b3261fbba9abdec21eaa57589985bb7a274bf54d6cc0a7"
   }
  }
 },
 "nbformat": 4,
 "nbformat_minor": 2
}
